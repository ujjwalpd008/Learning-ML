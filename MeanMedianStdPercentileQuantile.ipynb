{
 "cells": [
  {
   "cell_type": "markdown",
   "metadata": {},
   "source": [
    "# Mean and Std"
   ]
  },
  {
   "cell_type": "code",
   "execution_count": 1,
   "metadata": {},
   "outputs": [],
   "source": [
    "import pandas as pd\n",
    "import numpy as np\n",
    "import matplotlib.pyplot as plt\n",
    "import seaborn as sns\n"
   ]
  },
  {
   "cell_type": "code",
   "execution_count": 5,
   "metadata": {},
   "outputs": [],
   "source": [
    "iris = pd.read_csv('iris.csv');\n",
    "iris_setosa = iris['petal_length'][iris['species']=='setosa']\n",
    "iris_versicolor = iris['petal_length'][iris['species']=='versicolor']\n",
    "iris_virginica = iris['petal_length'][iris['species']=='virginica']"
   ]
  },
  {
   "cell_type": "code",
   "execution_count": 7,
   "metadata": {},
   "outputs": [
    {
     "name": "stdout",
     "output_type": "stream",
     "text": [
      "Mean: \n",
      "1.464\n",
      "4.26\n",
      "5.552\n",
      "----------------------------\n",
      "std: \n",
      "0.17176728442867115\n",
      "0.4651881339845204\n",
      "0.5463478745268441\n"
     ]
    }
   ],
   "source": [
    "print(\"Mean: \")\n",
    "print(np.mean(iris_setosa))\n",
    "print(np.mean(iris_versicolor))\n",
    "print(np.mean(iris_virginica))\n",
    "print(\"----------------------------\")\n",
    "print(\"std: \")\n",
    "print(np.std(iris_setosa))\n",
    "print(np.std(iris_versicolor))\n",
    "print(np.std(iris_virginica))"
   ]
  },
  {
   "cell_type": "code",
   "execution_count": 11,
   "metadata": {},
   "outputs": [
    {
     "name": "stdout",
     "output_type": "stream",
     "text": [
      "1.464\n",
      "2.4156862745098038\n"
     ]
    }
   ],
   "source": [
    "print(np.mean(iris_setosa))\n",
    "\n",
    "#outlier is added\n",
    "print(np.mean(np.append(iris_setosa,50)));"
   ]
  },
  {
   "cell_type": "markdown",
   "metadata": {},
   "source": [
    "Observation:\n",
    "51st flower length is added to our data and it is wrong i.e huge value is inserted in our case its 50, but actual length will be 1-2 so the mean is changed drastically, so following only mean is not feasible, similarly std also"
   ]
  },
  {
   "cell_type": "markdown",
   "metadata": {},
   "source": [
    "# Median"
   ]
  },
  {
   "cell_type": "code",
   "execution_count": 13,
   "metadata": {},
   "outputs": [
    {
     "name": "stdout",
     "output_type": "stream",
     "text": [
      "1.5\n",
      "1.5\n"
     ]
    }
   ],
   "source": [
    "print(np.median(iris_setosa))\n",
    "\n",
    "print(np.median(np.append(iris_setosa,50)));"
   ]
  },
  {
   "cell_type": "markdown",
   "metadata": {},
   "source": [
    "Observation: Even after Adding Outlier the result is almost same.because \n",
    "\n",
    "if there are more than 50% of outliers then result will be useless.\n",
    "\n",
    "So its better than mean and std."
   ]
  },
  {
   "cell_type": "markdown",
   "metadata": {},
   "source": [
    "# Percentiles"
   ]
  },
  {
   "cell_type": "markdown",
   "metadata": {},
   "source": [
    "Example: 10 percentile indicates there are 10% of values which are less than it"
   ]
  },
  {
   "cell_type": "code",
   "execution_count": 16,
   "metadata": {},
   "outputs": [
    {
     "name": "stdout",
     "output_type": "stream",
     "text": [
      "1.7\n"
     ]
    }
   ],
   "source": [
    "#second param is percentile\n",
    "print(np.percentile(iris_setosa,90))"
   ]
  },
  {
   "cell_type": "markdown",
   "metadata": {},
   "source": [
    "# Quantile\n",
    "Quantile is nothing but 0,25,50,75 Percentiles"
   ]
  },
  {
   "cell_type": "code",
   "execution_count": 20,
   "metadata": {},
   "outputs": [
    {
     "name": "stdout",
     "output_type": "stream",
     "text": [
      "Quantiles: \n",
      "1.0\n",
      "1.4\n",
      "1.5\n",
      "1.5750000000000002\n"
     ]
    }
   ],
   "source": [
    "print(\"Quantiles: \")\n",
    "print(np.percentile(iris_setosa,0))\n",
    "print(np.percentile(iris_setosa,25))\n",
    "print(np.percentile(iris_setosa,50))\n",
    "print(np.percentile(iris_setosa,75))"
   ]
  },
  {
   "cell_type": "markdown",
   "metadata": {},
   "source": [
    "# IQR(Inter Quartile Range)And MAD(Median Absolute Deviation)"
   ]
  },
  {
   "cell_type": "markdown",
   "metadata": {},
   "source": [
    "### MAD"
   ]
  },
  {
   "cell_type": "markdown",
   "metadata": {},
   "source": [
    "It is similar to Std, In MAD also we calculate the distance betwwen the point and median.\n",
    "\n",
    "Formula: median(| x-medianOfVals |) from i=1 to n"
   ]
  },
  {
   "cell_type": "code",
   "execution_count": 22,
   "metadata": {},
   "outputs": [
    {
     "name": "stdout",
     "output_type": "stream",
     "text": [
      "Median Abs Deviation(MAD)\n",
      "0.14826022185056031\n"
     ]
    }
   ],
   "source": [
    "from statsmodels import robust\n",
    "\n",
    "print(\"Median Abs Deviation(MAD)\");\n",
    "\n",
    "print(robust.mad(iris_setosa))"
   ]
  },
  {
   "cell_type": "markdown",
   "metadata": {},
   "source": [
    "# IQR\n",
    "\n",
    "is nothing but the difference between 2 quantiles"
   ]
  },
  {
   "cell_type": "code",
   "execution_count": 24,
   "metadata": {},
   "outputs": [
    {
     "name": "stdout",
     "output_type": "stream",
     "text": [
      "0.17500000000000027\n"
     ]
    }
   ],
   "source": [
    "print(np.percentile(iris_setosa,75)-np.percentile(iris_setosa,25))"
   ]
  },
  {
   "cell_type": "code",
   "execution_count": null,
   "metadata": {},
   "outputs": [],
   "source": []
  }
 ],
 "metadata": {
  "kernelspec": {
   "display_name": "Python 3",
   "language": "python",
   "name": "python3"
  },
  "language_info": {
   "codemirror_mode": {
    "name": "ipython",
    "version": 3
   },
   "file_extension": ".py",
   "mimetype": "text/x-python",
   "name": "python",
   "nbconvert_exporter": "python",
   "pygments_lexer": "ipython3",
   "version": "3.6.4"
  }
 },
 "nbformat": 4,
 "nbformat_minor": 2
}
