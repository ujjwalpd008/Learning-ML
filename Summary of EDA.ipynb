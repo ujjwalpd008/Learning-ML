{
 "cells": [
  {
   "cell_type": "markdown",
   "metadata": {},
   "source": [
    "# Summarizing EDA"
   ]
  },
  {
   "cell_type": "markdown",
   "metadata": {},
   "source": [
    "### UniVariant Analysis:(Considered 1 feature / 1D)<br>\n",
    "    PDF/Histograms\n",
    "    CDF\n",
    "    Box Plot\n",
    "    Violin Plot\n",
    "\n",
    "### BiVarient Analysis:(Considered 2 features / 2D)<br>\n",
    "    Scatter Plot\n",
    "    Pair Plot\n",
    "    \n",
    "### MultiVariant Analysis:(Considered 3 or more features / nD)<br>\n",
    "    3D Plot"
   ]
  },
  {
   "cell_type": "code",
   "execution_count": null,
   "metadata": {},
   "outputs": [],
   "source": []
  }
 ],
 "metadata": {
  "kernelspec": {
   "display_name": "Python 3",
   "language": "python",
   "name": "python3"
  },
  "language_info": {
   "codemirror_mode": {
    "name": "ipython",
    "version": 3
   },
   "file_extension": ".py",
   "mimetype": "text/x-python",
   "name": "python",
   "nbconvert_exporter": "python",
   "pygments_lexer": "ipython3",
   "version": "3.6.4"
  }
 },
 "nbformat": 4,
 "nbformat_minor": 2
}
